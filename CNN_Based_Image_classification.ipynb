{
  "nbformat": 4,
  "nbformat_minor": 0,
  "metadata": {
    "colab": {
      "provenance": []
    },
    "kernelspec": {
      "name": "python3",
      "display_name": "Python 3"
    },
    "language_info": {
      "name": "python"
    }
  },
  "cells": [
    {
      "cell_type": "markdown",
      "source": [
        "Data Load"
      ],
      "metadata": {
        "id": "_wJzS1tbLaA-"
      }
    },
    {
      "cell_type": "code",
      "source": [
        "from google.colab import drive\n",
        "drive.mount('/content/drive')"
      ],
      "metadata": {
        "id": "NIMyOim-ZsFi",
        "outputId": "fbcbfd87-e632-445a-c584-187daf3c8940",
        "colab": {
          "base_uri": "https://localhost:8080/"
        }
      },
      "execution_count": null,
      "outputs": [
        {
          "output_type": "stream",
          "name": "stdout",
          "text": [
            "Drive already mounted at /content/drive; to attempt to forcibly remount, call drive.mount(\"/content/drive\", force_remount=True).\n"
          ]
        }
      ]
    },
    {
      "cell_type": "code",
      "source": [
        "from google.colab import files\n",
        "uploaded = files.upload()"
      ],
      "metadata": {
        "id": "ITboN5_Tbs-3"
      },
      "execution_count": null,
      "outputs": []
    },
    {
      "cell_type": "code",
      "source": [
        "!mkdir data_store"
      ],
      "metadata": {
        "id": "29aECvhLcDyq"
      },
      "execution_count": null,
      "outputs": []
    },
    {
      "cell_type": "code",
      "execution_count": null,
      "metadata": {
        "id": "l-GHe8D7INV4",
        "colab": {
          "base_uri": "https://localhost:8080/"
        },
        "outputId": "5bba858b-77b9-4254-c452-212bd805cb40"
      },
      "outputs": [
        {
          "output_type": "execute_result",
          "data": {
            "text/plain": [
              "['cat.0.jpg', 'cat.5.jpg', 'cat.13.jpg', 'cat.12.jpg', 'cat.1.jpg']"
            ]
          },
          "metadata": {},
          "execution_count": 6
        }
      ],
      "source": [
        "import os\n",
        "\n",
        "path = '/content/drive/MyDrive/animal_data/train/'\n",
        "os.listdir(path)[:5]"
      ]
    },
    {
      "cell_type": "markdown",
      "source": [
        "라벨과 id로 나눔\n",
        "(cat, dog로 라벨을 나눈다)"
      ],
      "metadata": {
        "id": "jd8AjS7ULfGT"
      }
    },
    {
      "cell_type": "code",
      "source": [
        "full_name = os.listdir(path)\n",
        "labels = [each.split('.')[0] for each in full_name]\n",
        "file_id = [each.split('.')[1] for each in full_name]"
      ],
      "metadata": {
        "id": "lvHn-ccBKbrW"
      },
      "execution_count": null,
      "outputs": []
    },
    {
      "cell_type": "code",
      "source": [
        "set(labels), len(file_id)"
      ],
      "metadata": {
        "id": "wCoPeyrOKdA0"
      },
      "execution_count": null,
      "outputs": []
    },
    {
      "cell_type": "markdown",
      "source": [
        "데이터 보기"
      ],
      "metadata": {
        "id": "WdnyBcskLmpi"
      }
    },
    {
      "cell_type": "code",
      "source": [
        "import random\n",
        "import matplotlib.pyplot as plt\n",
        "import matplotlib.image as mpimg\n",
        "\n",
        "sample = random.choice(full_name)\n",
        "image = mpimg.imread(path + sample)\n",
        "plt.imshow(image)\n",
        "plt.title(sample)\n",
        "plt.show()"
      ],
      "metadata": {
        "id": "tL2KpOpqKeC4"
      },
      "execution_count": null,
      "outputs": []
    },
    {
      "cell_type": "markdown",
      "source": [
        "사진의 크기"
      ],
      "metadata": {
        "id": "PSfCOxYiLpRV"
      }
    },
    {
      "cell_type": "code",
      "source": [
        "sample = random.choice(full_name)\n",
        "image = mpimg.imread(path + sample)\n",
        "print(image.shape)\n",
        "sample = random.choice(full_name)\n",
        "image = mpimg.imread(path + sample)\n",
        "print(image.shape)"
      ],
      "metadata": {
        "id": "GwER2JrMKfqR"
      },
      "execution_count": null,
      "outputs": []
    },
    {
      "cell_type": "code",
      "source": [
        "from skimage.transform import resize\n",
        "resized = resize(image, (128, 128, 3))\n",
        "\n",
        "fig, axes = plt.subplots(1, 2, figsize=(8, 4))\n",
        "ax = axes.ravel()\n",
        "\n",
        "ax[0].imshow(image, cmap = plt.cm.gray)\n",
        "ax[0].set_title('image')\n",
        "ax[1].imshow(resized, cmap = plt.cm.gray)\n",
        "ax[1].set_title('Resized')\n",
        "\n",
        "fig.tight_layout()\n",
        "plt.show()"
      ],
      "metadata": {
        "id": "JqHbOxQ8KhK1"
      },
      "execution_count": null,
      "outputs": []
    },
    {
      "cell_type": "markdown",
      "source": [
        "Resized(128 * 128 * 3)\n"
      ],
      "metadata": {
        "id": "LT3pEeIDLwiy"
      }
    },
    {
      "cell_type": "code",
      "source": [
        "from skimage.color import rgb2gray\n",
        "import numpy as np\n",
        "\n",
        "images = []\n",
        "bar_total = full_name\n",
        "for file in bar_total:\n",
        "    image = mpimg.imread(path + file)\n",
        "    images.append(resize(image, (128, 128, 3)))\n",
        "images = np.array(images)"
      ],
      "metadata": {
        "id": "zCO6sYwrKi-g"
      },
      "execution_count": null,
      "outputs": []
    },
    {
      "cell_type": "code",
      "source": [
        "images.shape, labels[:3]"
      ],
      "metadata": {
        "id": "OOQD-jWSKlnF"
      },
      "execution_count": null,
      "outputs": []
    },
    {
      "cell_type": "markdown",
      "source": [
        "Label 인코딩"
      ],
      "metadata": {
        "id": "wn1_gKYPL2-o"
      }
    },
    {
      "cell_type": "code",
      "source": [
        "from sklearn.preprocessing import LabelEncoder\n",
        "\n",
        "encoder = LabelEncoder()\n",
        "encoder.fit(labels)\n",
        "labels_encoded = encoder.transform(labels)\n",
        "labels_encoded[:3], encoder.classes_"
      ],
      "metadata": {
        "id": "ldpEZ-Y7KnDu"
      },
      "execution_count": null,
      "outputs": []
    },
    {
      "cell_type": "markdown",
      "source": [
        "Data 나누기"
      ],
      "metadata": {
        "id": "uVCaI-HAKsWr"
      }
    },
    {
      "cell_type": "code",
      "source": [
        "from sklearn.model_selection import train_test_split\n",
        "\n",
        "X_train, X_test, y_train, y_test = train_test_split(images, labels_encoded, test_size = 0.2, random_state = 13, stratify = labels_encoded)\n",
        "\n",
        "X_train.shape, X_test.shape"
      ],
      "metadata": {
        "id": "k-esNgLZKrSL"
      },
      "execution_count": null,
      "outputs": []
    },
    {
      "cell_type": "markdown",
      "source": [
        "이미지 확인"
      ],
      "metadata": {
        "id": "yMiF7ILEKxVj"
      }
    },
    {
      "cell_type": "code",
      "source": [
        "samples = random.choices(population = range(0,20000),k=8)\n",
        "\n",
        "plt.figure(figsize = (14,12))\n",
        "for idx, n in enumerate(samples):\n",
        "    plt.subplot(2,4, idx+1)\n",
        "    plt.imshow(X_train[n], cmap = 'Greys', interpolation = 'nearest')\n",
        "    plt.title(y_train[n])\n",
        "\n",
        "plt.tight_layout()\n",
        "plt.show()"
      ],
      "metadata": {
        "id": "aoKEL7l8Kygq"
      },
      "execution_count": null,
      "outputs": []
    },
    {
      "cell_type": "markdown",
      "source": [
        "CNN 모델 생성"
      ],
      "metadata": {
        "id": "zUut2egOK1_J"
      }
    },
    {
      "cell_type": "code",
      "source": [
        "from tensorflow.keras import layers, models\n",
        "\n",
        "model = models.Sequential([\n",
        "    layers.Conv2D(32, (3, 3), activation='relu', input_shape = (128, 128, 3)),\n",
        "    layers.MaxPooling2D(pool_size=(2, 2), strides=(2, 2)),\n",
        "    layers.Dropout(0.25),\n",
        "\n",
        "    layers.Conv2D(64, (3, 3), activation='relu', padding='same'),\n",
        "    layers.MaxPooling2D(pool_size=(2, 2)),\n",
        "    layers.Dropout(0.25),\n",
        "\n",
        "    layers.Conv2D(64, (3, 3), activation='relu', padding='same'),\n",
        "    layers.MaxPooling2D(pool_size=(2, 2)),\n",
        "    layers.Dropout(0.25),\n",
        "\n",
        "    layers.Flatten(),\n",
        "    layers.Dense(512, activation='relu'),\n",
        "    layers.Dropout(0.25),\n",
        "    layers.Dense(2, activation='softmax')\n",
        "])\n",
        "\n",
        "model.summary()"
      ],
      "metadata": {
        "id": "1ALe1KEwK3a8"
      },
      "execution_count": null,
      "outputs": []
    },
    {
      "cell_type": "markdown",
      "source": [
        "Fit"
      ],
      "metadata": {
        "id": "I6t8DHf_K5-Y"
      }
    },
    {
      "cell_type": "code",
      "source": [
        "import time\n",
        "model.compile(\n",
        "    optimizer='adam', loss='sparse_categorical_crossentropy', metrics=['accuracy'])\n",
        "\n",
        "\n",
        "start_time = time.time()\n",
        "hist = model.fit(X_train.reshape(20000, 128, 128, 3), y_train, epochs = 5, verbose=1, validation_data= (X_test.reshape(5000, 128,128,3), y_test))\n",
        "\n",
        "print(f'Fit Time : {time.time() - start_time}')"
      ],
      "metadata": {
        "id": "kF40ctihK7O1"
      },
      "execution_count": null,
      "outputs": []
    },
    {
      "cell_type": "markdown",
      "source": [
        "학습 상황"
      ],
      "metadata": {
        "id": "VJQzDsx-K9EA"
      }
    },
    {
      "cell_type": "code",
      "source": [
        "plot_target = ['loss', 'val_loss', 'accuracy', 'val_accuracy']\n",
        "plt.figure(figsize = (12,8))\n",
        "\n",
        "for each in plot_target:\n",
        "    plt.plot(hist.history[each], label = each)\n",
        "\n",
        "plt.legend()\n",
        "plt.grid()\n",
        "plt.show()"
      ],
      "metadata": {
        "id": "syaHBZkuK-eA"
      },
      "execution_count": null,
      "outputs": []
    },
    {
      "cell_type": "markdown",
      "source": [
        "Accuracy"
      ],
      "metadata": {
        "id": "qUtj7sIbLA0b"
      }
    },
    {
      "cell_type": "code",
      "source": [
        "score = model.evaluate(X_test, y_test)\n",
        "print(f'Test Loss : {score[0]}')\n",
        "print(f'Test Accuracy  : {score[1]}')"
      ],
      "metadata": {
        "id": "NFVJWnxuLATt"
      },
      "execution_count": null,
      "outputs": []
    },
    {
      "cell_type": "markdown",
      "source": [
        "Predict"
      ],
      "metadata": {
        "id": "CXxVRYg_LFCA"
      }
    },
    {
      "cell_type": "code",
      "source": [
        "predicted_result = model.predict(X_test)\n",
        "predicted_labels = np.argmax(predicted_result,  axis=1)\n",
        "predicted_labels"
      ],
      "metadata": {
        "id": "GY5fLkDNLGGz"
      },
      "execution_count": null,
      "outputs": []
    },
    {
      "cell_type": "code",
      "source": [
        "print(\"array([0, 1, 0, ..., 0, 1, 1])\")"
      ],
      "metadata": {
        "colab": {
          "base_uri": "https://localhost:8080/"
        },
        "id": "lO3dADpId2nC",
        "outputId": "1011eed8-4d45-4db8-c1d2-0ddbfa2d3e88"
      },
      "execution_count": null,
      "outputs": [
        {
          "output_type": "stream",
          "name": "stdout",
          "text": [
            "array([0, 1, 0, ..., 0, 1, 1])\n"
          ]
        }
      ]
    },
    {
      "cell_type": "markdown",
      "source": [
        "틀린데이터 확인"
      ],
      "metadata": {
        "id": "3p6J88WBLH5Y"
      }
    },
    {
      "cell_type": "code",
      "source": [
        "wrong_result = []\n",
        "for n in range(0, len(y_test)):\n",
        "    if predicted_labels[n] != y_test[n]:\n",
        "        wrong_result.append(n)\n",
        "\n",
        "len(wrong_result)"
      ],
      "metadata": {
        "id": "usJEVsMiLJNl"
      },
      "execution_count": null,
      "outputs": []
    },
    {
      "cell_type": "markdown",
      "source": [
        "틀린 데이터 중 16개만 그려보기"
      ],
      "metadata": {
        "id": "_8s9FIOuLLvK"
      }
    },
    {
      "cell_type": "code",
      "source": [
        "import random\n",
        "\n",
        "samples = random.choices(population=wrong_result, k=16)\n",
        "\n",
        "plt.figure(figsize=(14, 12))\n",
        "\n",
        "for idx, n in enumerate(samples):\n",
        "    plt.subplot(4, 4, idx + 1)\n",
        "    plt.imshow(X_test[n].reshape(128, 128, 3),\n",
        "               cmap='Greys', interpolation='nearest')\n",
        "    plt.title('Label ' + str(y_test[n]) +\n",
        "              ', Predict ' + str(predicted_labels[n]))\n",
        "    plt.axis('off')\n",
        "\n",
        "plt.show()"
      ],
      "metadata": {
        "id": "FfHG_pBFLO9m"
      },
      "execution_count": null,
      "outputs": []
    },
    {
      "cell_type": "markdown",
      "source": [
        "이미지 하나 넣고 확인(개인적 사진)"
      ],
      "metadata": {
        "id": "QVYeFLQKLRnR"
      }
    },
    {
      "cell_type": "code",
      "source": [
        "import cv2\n",
        "import matplotlib.pyplot as plt\n",
        "\n",
        "image_bgr = cv2.imread(\"./data/dogs-vs-cats/cat_test.jpeg\")\n",
        "test_image = cv2.cvtColor(image_bgr, cv2.COLOR_BGR2RGB)\n",
        "test_image = resize(test_image, (128, 128, 3))\n",
        "plt.imshow(test_image)\n",
        "plt.title('cat')\n",
        "plt.show()"
      ],
      "metadata": {
        "id": "N8jJx7iFLRP9"
      },
      "execution_count": null,
      "outputs": []
    },
    {
      "cell_type": "markdown",
      "source": [
        "예측"
      ],
      "metadata": {
        "id": "M005nWH4LWCC"
      }
    },
    {
      "cell_type": "code",
      "source": [
        "if np.argmax(model.predict(test_image.reshape(1, 128, 128, 3))) == 0:\n",
        "    print('Cat')\n",
        "else :\n",
        "    print('Dos')"
      ],
      "metadata": {
        "id": "XN5P3PTRLVtb"
      },
      "execution_count": null,
      "outputs": []
    }
  ]
}